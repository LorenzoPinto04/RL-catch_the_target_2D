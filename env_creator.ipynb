{
 "cells": [
  {
   "cell_type": "code",
   "execution_count": 2,
   "metadata": {},
   "outputs": [
    {
     "name": "stdout",
     "output_type": "stream",
     "text": [
      "pygame 1.9.6\n",
      "Hello from the pygame community. https://www.pygame.org/contribute.html\n"
     ]
    }
   ],
   "source": [
    "# MODULES\n",
    "import pygame\n",
    "import pandas as pd"
   ]
  },
  {
   "cell_type": "code",
   "execution_count": null,
   "metadata": {
    "scrolled": true
   },
   "outputs": [],
   "source": [
    "df = pd.read_csv('data_final.csv')\n",
    "df"
   ]
  },
  {
   "cell_type": "code",
   "execution_count": 8,
   "metadata": {},
   "outputs": [],
   "source": [
    "# PARAMETERS\n",
    "\n",
    "n_x = 80\n",
    "n_y = 50\n",
    "\n",
    "BLACK = (0, 0, 0)\n",
    "WHITE = (255, 255, 255)\n",
    "GREEN = (0, 255, 0)\n",
    "RED = (255, 0, 0)\n",
    "\n",
    "# WIDTH and HEIGHT of each grid location\n",
    "WIDTH = 13\n",
    "HEIGHT = 13\n",
    "# margin between each cell\n",
    "MARGIN = 5\n",
    "\n",
    "WINDOW_SIZE = [1500, 1000]\n"
   ]
  },
  {
   "cell_type": "code",
   "execution_count": 9,
   "metadata": {},
   "outputs": [],
   "source": [
    "# FUNCTIONS \n",
    "\n",
    "def create_grid(n_x, n_y):\n",
    "    grid = []\n",
    "    for row in range(n_y+1):\n",
    "        grid.append([])\n",
    "        for column in range(n_x+1):\n",
    "            grid[row].append(0)  # Append a cell\n",
    "    return grid\n",
    "\n",
    "def plot_grid(timestep):\n",
    "    global grid\n",
    "    a = df.loc[df['0'] == timestep]\n",
    "    for i in a.iterrows():\n",
    "        y = i[1][2]\n",
    "        x = i[1][3]\n",
    "        grid[x][y] += 1\n",
    "    for row in range(20):\n",
    "        for column in range(20):\n",
    "            color = WHITE\n",
    "            if grid[row][column] == 1:\n",
    "                color = GREEN\n",
    "            elif grid[row][column] == 2:\n",
    "                color = RED\n",
    "            pygame.draw.rect(screen,\n",
    "                             color,\n",
    "                             [(MARGIN + WIDTH) * column + MARGIN,\n",
    "                              (MARGIN + HEIGHT) * row + MARGIN,\n",
    "                              WIDTH,\n",
    "                              HEIGHT])   \n",
    "            \n",
    "            \n",
    "\n",
    "            \n",
    "def write(text, x, y):\n",
    "    font = pygame.font.Font('freesansbold.ttf', 12) \n",
    "    text = font.render(text, True, WHITE, BLACK) \n",
    "    textRect = text.get_rect()  \n",
    "    textRect.center = (x, y) \n",
    "    screen.blit(text, textRect) \n"
   ]
  },
  {
   "cell_type": "code",
   "execution_count": null,
   "metadata": {},
   "outputs": [],
   "source": [
    "# CODE \n",
    "\n",
    "y = 0\n",
    "x = 0\n",
    " \n",
    "pygame.init()\n",
    "screen = pygame.display.set_mode(WINDOW_SIZE)\n",
    "pygame.display.set_caption(\"Environment\")\n",
    "clock = pygame.time.Clock()\n",
    "\n",
    "timestep = 0\n",
    "\n",
    "auto_run = True\n",
    "done = False\n",
    "while not done:\n",
    "    if timestep == 20:\n",
    "        timestep = 0\n",
    "    grid = create_grid()\n",
    "    for event in pygame.event.get():\n",
    "        if event.type == pygame.QUIT: \n",
    "            done = True  \n",
    "    if auto_run == False:\n",
    "        event = pygame.event.wait()\n",
    "        if event.type == pygame.QUIT:\n",
    "            break\n",
    "        if event.type == pygame.KEYDOWN:\n",
    "            timestep += 1\n",
    "    else:\n",
    "        timestep += 1\n",
    "    screen.fill(BLACK) \n",
    "    plot_grid(timestep)\n",
    "    write('Time: '+str(timestep), 530, 10)\n",
    "    clock.tick(1)\n",
    "    pygame.display.flip()\n",
    "pygame.quit()"
   ]
  },
  {
   "cell_type": "code",
   "execution_count": 22,
   "metadata": {},
   "outputs": [],
   "source": [
    "routes = []\n",
    "\n",
    "\n",
    "def plot_grid_creation(grid):\n",
    "    for row in range(len(grid)):\n",
    "        for column in range(len(grid[0])):\n",
    "            color = WHITE\n",
    "            if grid[row][column] == 1:\n",
    "                color = GREEN\n",
    "            elif grid[row][column] == 2:\n",
    "                color = RED\n",
    "            pygame.draw.rect(screen,\n",
    "                             color,\n",
    "                             [(MARGIN + WIDTH) * column + MARGIN,\n",
    "                              (MARGIN + HEIGHT) * row + MARGIN,\n",
    "                              WIDTH,\n",
    "                              HEIGHT])   \n",
    "            "
   ]
  },
  {
   "cell_type": "code",
   "execution_count": 26,
   "metadata": {
    "scrolled": true
   },
   "outputs": [
    {
     "name": "stdout",
     "output_type": "stream",
     "text": [
      "[1, 'bus_2', 65, 47]\n",
      "[2, 'bus_2', 61, 47]\n",
      "[3, 'bus_2', 56, 45]\n",
      "[4, 'bus_2', 51, 44]\n",
      "[5, 'bus_2', 50, 42]\n",
      "[6, 'bus_2', 47, 41]\n",
      "[7, 'bus_2', 44, 42]\n",
      "[8, 'bus_2', 42, 41]\n",
      "[9, 'bus_2', 41, 38]\n",
      "[10, 'bus_2', 42, 36]\n",
      "[11, 'bus_2', 43, 34]\n",
      "[12, 'bus_2', 42, 31]\n",
      "[13, 'bus_2', 40, 30]\n",
      "[14, 'bus_2', 37, 29]\n",
      "[15, 'bus_2', 34, 30]\n",
      "[16, 'bus_2', 31, 31]\n",
      "[17, 'bus_2', 29, 33]\n",
      "[18, 'bus_2', 27, 35]\n",
      "[19, 'bus_2', 25, 36]\n",
      "[20, 'bus_2', 22, 36]\n"
     ]
    }
   ],
   "source": [
    "# dataset creator\n",
    "# RUN ONLY IF YOU WANT TO CREATE A NEW ROUTE\n",
    "# CODE \n",
    "\n",
    "y = 0\n",
    "x = 0\n",
    "\n",
    "\n",
    "n_x = 80\n",
    "n_y = 50\n",
    " \n",
    "pygame.init()\n",
    "screen = pygame.display.set_mode(WINDOW_SIZE)\n",
    "pygame.display.set_caption(\"CREATORE MEZZO TRASPORTO\")\n",
    "clock = pygame.time.Clock()\n",
    "\n",
    "iteration = 0\n",
    "\n",
    "\n",
    "done = False\n",
    "grid = create_grid(n_x, n_y)\n",
    "\n",
    "while not done:\n",
    "    skip = False\n",
    "    if iteration == 20:\n",
    "        done = True \n",
    "        skip = True\n",
    "    iteration += 1\n",
    "    grid[x][y] += 1\n",
    "    while skip == False:\n",
    "        for event in pygame.event.get():\n",
    "            if event.type == pygame.QUIT: \n",
    "                done = True \n",
    "                skip = True\n",
    "            elif event.type == pygame.MOUSEBUTTONDOWN:\n",
    "                # User clicks the mouse. Get the position\n",
    "                pos = pygame.mouse.get_pos()\n",
    "                # Change the x/y screen coordinates to grid coordinates\n",
    "                column = pos[0] // (WIDTH + MARGIN)\n",
    "                row = pos[1] // (HEIGHT + MARGIN)\n",
    "                # Set that location to one\n",
    "                grid[row][column] = 1\n",
    "                row_to_append = [iteration, 'bus_2', column, row]\n",
    "                print(str(row_to_append))\n",
    "                routes.append(row_to_append)\n",
    "                #print(\"Click \", pos, \"Grid coordinates: \", row, column)\n",
    "                skip = True\n",
    "\n",
    "    screen.fill(BLACK) \n",
    "    plot_grid_creation(grid)\n",
    "    write('Time: '+str(iteration), 530, 10)\n",
    "    # Limit to 1 frames per second\n",
    "    clock.tick(60)\n",
    "    pygame.display.flip()\n",
    "\n",
    "\n",
    "pygame.quit()"
   ]
  },
  {
   "cell_type": "code",
   "execution_count": 27,
   "metadata": {},
   "outputs": [],
   "source": [
    "df = pd.DataFrame.from_records(routes)\n",
    "df.to_csv('data.csv', index=False)"
   ]
  },
  {
   "cell_type": "code",
   "execution_count": 28,
   "metadata": {},
   "outputs": [
    {
     "data": {
      "text/html": [
       "<div>\n",
       "<style scoped>\n",
       "    .dataframe tbody tr th:only-of-type {\n",
       "        vertical-align: middle;\n",
       "    }\n",
       "\n",
       "    .dataframe tbody tr th {\n",
       "        vertical-align: top;\n",
       "    }\n",
       "\n",
       "    .dataframe thead th {\n",
       "        text-align: right;\n",
       "    }\n",
       "</style>\n",
       "<table border=\"1\" class=\"dataframe\">\n",
       "  <thead>\n",
       "    <tr style=\"text-align: right;\">\n",
       "      <th></th>\n",
       "      <th>0</th>\n",
       "      <th>1</th>\n",
       "      <th>2</th>\n",
       "      <th>3</th>\n",
       "    </tr>\n",
       "  </thead>\n",
       "  <tbody>\n",
       "    <tr>\n",
       "      <th>0</th>\n",
       "      <td>1</td>\n",
       "      <td>train_1</td>\n",
       "      <td>3</td>\n",
       "      <td>6</td>\n",
       "    </tr>\n",
       "    <tr>\n",
       "      <th>1</th>\n",
       "      <td>2</td>\n",
       "      <td>train_1</td>\n",
       "      <td>8</td>\n",
       "      <td>3</td>\n",
       "    </tr>\n",
       "    <tr>\n",
       "      <th>2</th>\n",
       "      <td>3</td>\n",
       "      <td>train_1</td>\n",
       "      <td>18</td>\n",
       "      <td>1</td>\n",
       "    </tr>\n",
       "    <tr>\n",
       "      <th>3</th>\n",
       "      <td>4</td>\n",
       "      <td>train_1</td>\n",
       "      <td>26</td>\n",
       "      <td>2</td>\n",
       "    </tr>\n",
       "    <tr>\n",
       "      <th>4</th>\n",
       "      <td>5</td>\n",
       "      <td>train_1</td>\n",
       "      <td>32</td>\n",
       "      <td>2</td>\n",
       "    </tr>\n",
       "    <tr>\n",
       "      <th>...</th>\n",
       "      <td>...</td>\n",
       "      <td>...</td>\n",
       "      <td>...</td>\n",
       "      <td>...</td>\n",
       "    </tr>\n",
       "    <tr>\n",
       "      <th>75</th>\n",
       "      <td>16</td>\n",
       "      <td>bus_2</td>\n",
       "      <td>31</td>\n",
       "      <td>31</td>\n",
       "    </tr>\n",
       "    <tr>\n",
       "      <th>76</th>\n",
       "      <td>17</td>\n",
       "      <td>bus_2</td>\n",
       "      <td>29</td>\n",
       "      <td>33</td>\n",
       "    </tr>\n",
       "    <tr>\n",
       "      <th>77</th>\n",
       "      <td>18</td>\n",
       "      <td>bus_2</td>\n",
       "      <td>27</td>\n",
       "      <td>35</td>\n",
       "    </tr>\n",
       "    <tr>\n",
       "      <th>78</th>\n",
       "      <td>19</td>\n",
       "      <td>bus_2</td>\n",
       "      <td>25</td>\n",
       "      <td>36</td>\n",
       "    </tr>\n",
       "    <tr>\n",
       "      <th>79</th>\n",
       "      <td>20</td>\n",
       "      <td>bus_2</td>\n",
       "      <td>22</td>\n",
       "      <td>36</td>\n",
       "    </tr>\n",
       "  </tbody>\n",
       "</table>\n",
       "<p>80 rows × 4 columns</p>\n",
       "</div>"
      ],
      "text/plain": [
       "     0        1   2   3\n",
       "0    1  train_1   3   6\n",
       "1    2  train_1   8   3\n",
       "2    3  train_1  18   1\n",
       "3    4  train_1  26   2\n",
       "4    5  train_1  32   2\n",
       "..  ..      ...  ..  ..\n",
       "75  16    bus_2  31  31\n",
       "76  17    bus_2  29  33\n",
       "77  18    bus_2  27  35\n",
       "78  19    bus_2  25  36\n",
       "79  20    bus_2  22  36\n",
       "\n",
       "[80 rows x 4 columns]"
      ]
     },
     "execution_count": 28,
     "metadata": {},
     "output_type": "execute_result"
    }
   ],
   "source": [
    "df"
   ]
  },
  {
   "cell_type": "code",
   "execution_count": null,
   "metadata": {},
   "outputs": [],
   "source": [
    "    except Exception as e:\n",
    "        print(e)\n",
    "        done = True"
   ]
  },
  {
   "cell_type": "code",
   "execution_count": null,
   "metadata": {},
   "outputs": [],
   "source": []
  },
  {
   "cell_type": "code",
   "execution_count": null,
   "metadata": {},
   "outputs": [],
   "source": []
  },
  {
   "cell_type": "code",
   "execution_count": 1,
   "metadata": {},
   "outputs": [
    {
     "name": "stdout",
     "output_type": "stream",
     "text": [
      "pygame 1.9.6\n",
      "Hello from the pygame community. https://www.pygame.org/contribute.html\n"
     ]
    }
   ],
   "source": [
    "import frame_runner as fr\n",
    "fr.runner((1,1), (6,10), 1)"
   ]
  },
  {
   "cell_type": "code",
   "execution_count": 2,
   "metadata": {},
   "outputs": [],
   "source": [
    "fr.runner((10,1), (6,10), 1)"
   ]
  },
  {
   "cell_type": "code",
   "execution_count": 3,
   "metadata": {},
   "outputs": [],
   "source": [
    "import pygame\n",
    "pygame.quit()"
   ]
  },
  {
   "cell_type": "code",
   "execution_count": null,
   "metadata": {},
   "outputs": [],
   "source": []
  }
 ],
 "metadata": {
  "kernelspec": {
   "display_name": "Python [conda env:lorenzo_env] *",
   "language": "python",
   "name": "conda-env-lorenzo_env-py"
  },
  "language_info": {
   "codemirror_mode": {
    "name": "ipython",
    "version": 3
   },
   "file_extension": ".py",
   "mimetype": "text/x-python",
   "name": "python",
   "nbconvert_exporter": "python",
   "pygments_lexer": "ipython3",
   "version": "3.6.10"
  }
 },
 "nbformat": 4,
 "nbformat_minor": 4
}
